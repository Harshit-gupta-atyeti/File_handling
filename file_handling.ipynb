{
 "cells": [
  {
   "cell_type": "code",
   "execution_count": 1,
   "id": "3aabab9b-113d-48d5-8931-293a992c985d",
   "metadata": {},
   "outputs": [
    {
     "name": "stdout",
     "output_type": "stream",
     "text": [
      "         Name  Ranking     Area\n",
      "0         IBM        2    India\n",
      "1      atyeti        3      USA\n",
      "2      google        7  england\n",
      "3   microsoft       11  ireland\n",
      "4        Meta        6  Austria\n",
      "5   blackrock        4   France\n",
      "6         tcs        5  germany\n",
      "7      amdocs        8       UK\n",
      "8         LTI       10    china\n",
      "9        Bain        1   africa\n",
      "10    Walmart        9   Canada\n"
     ]
    }
   ],
   "source": [
    "import pandas as pd\n",
    "d= {\"Name\":[\"IBM\",\"atyeti\",\"google\",\"microsoft\",\"Meta\",\"blackrock\",\"tcs\",\"amdocs\",\"LTI\",\"Bain\",\"Walmart\"],\n",
    "       \"Ranking\":[2,3,7,11,6,4,5,8,10,1,9],\n",
    "       \"Area\":[\"India\",\"USA\",\"england\",\"ireland\",\"Austria\",\"France\",\"germany\",\"UK\",\"china\",\"africa\",\"Canada\"]}\n",
    "df = pd.DataFrame(d)\n",
    "#print(d)\n",
    "df.to_csv(\"test_new.csv\",index = False)\n",
    "data=pd.read_csv(\"test_new.csv\")\n",
    "print(data)"
   ]
  },
  {
   "cell_type": "code",
   "execution_count": 42,
   "id": "b311a5cd-78c8-4fa5-a0dc-a3117adb2aa7",
   "metadata": {},
   "outputs": [
    {
     "ename": "FileNotFoundError",
     "evalue": "[Errno 2] No such file or directory: 'Documents/sample2.json'",
     "output_type": "error",
     "traceback": [
      "\u001b[1;31m---------------------------------------------------------------------------\u001b[0m",
      "\u001b[1;31mFileNotFoundError\u001b[0m                         Traceback (most recent call last)",
      "Cell \u001b[1;32mIn[42], line 4\u001b[0m\n\u001b[0;32m      1\u001b[0m \u001b[38;5;28;01mimport\u001b[39;00m \u001b[38;5;21;01mjson\u001b[39;00m\n\u001b[0;32m      3\u001b[0m \u001b[38;5;66;03m# Reading the JSON file (ensure the file path is correct)\u001b[39;00m\n\u001b[1;32m----> 4\u001b[0m \u001b[38;5;28;01mwith\u001b[39;00m \u001b[38;5;28mopen\u001b[39m(\u001b[38;5;124m\"\u001b[39m\u001b[38;5;124mDocuments/sample2.json\u001b[39m\u001b[38;5;124m\"\u001b[39m, \u001b[38;5;124m\"\u001b[39m\u001b[38;5;124mr\u001b[39m\u001b[38;5;124m\"\u001b[39m) \u001b[38;5;28;01mas\u001b[39;00m file:\n\u001b[0;32m      5\u001b[0m     data \u001b[38;5;241m=\u001b[39m json\u001b[38;5;241m.\u001b[39mload(file)\n\u001b[0;32m      7\u001b[0m \u001b[38;5;66;03m# If you want to read another file (make sure the correct file path is provided)\u001b[39;00m\n",
      "File \u001b[1;32m~\\anaconda3\\Lib\\site-packages\\IPython\\core\\interactiveshell.py:324\u001b[0m, in \u001b[0;36m_modified_open\u001b[1;34m(file, *args, **kwargs)\u001b[0m\n\u001b[0;32m    317\u001b[0m \u001b[38;5;28;01mif\u001b[39;00m file \u001b[38;5;129;01min\u001b[39;00m {\u001b[38;5;241m0\u001b[39m, \u001b[38;5;241m1\u001b[39m, \u001b[38;5;241m2\u001b[39m}:\n\u001b[0;32m    318\u001b[0m     \u001b[38;5;28;01mraise\u001b[39;00m \u001b[38;5;167;01mValueError\u001b[39;00m(\n\u001b[0;32m    319\u001b[0m         \u001b[38;5;124mf\u001b[39m\u001b[38;5;124m\"\u001b[39m\u001b[38;5;124mIPython won\u001b[39m\u001b[38;5;124m'\u001b[39m\u001b[38;5;124mt let you open fd=\u001b[39m\u001b[38;5;132;01m{\u001b[39;00mfile\u001b[38;5;132;01m}\u001b[39;00m\u001b[38;5;124m by default \u001b[39m\u001b[38;5;124m\"\u001b[39m\n\u001b[0;32m    320\u001b[0m         \u001b[38;5;124m\"\u001b[39m\u001b[38;5;124mas it is likely to crash IPython. If you know what you are doing, \u001b[39m\u001b[38;5;124m\"\u001b[39m\n\u001b[0;32m    321\u001b[0m         \u001b[38;5;124m\"\u001b[39m\u001b[38;5;124myou can use builtins\u001b[39m\u001b[38;5;124m'\u001b[39m\u001b[38;5;124m open.\u001b[39m\u001b[38;5;124m\"\u001b[39m\n\u001b[0;32m    322\u001b[0m     )\n\u001b[1;32m--> 324\u001b[0m \u001b[38;5;28;01mreturn\u001b[39;00m io_open(file, \u001b[38;5;241m*\u001b[39margs, \u001b[38;5;241m*\u001b[39m\u001b[38;5;241m*\u001b[39mkwargs)\n",
      "\u001b[1;31mFileNotFoundError\u001b[0m: [Errno 2] No such file or directory: 'Documents/sample2.json'"
     ]
    }
   ],
   "source": [
    "\n",
    "\n",
    "# print(type(data))  # <class 'list'>\n",
    " \n",
    " \n",
    "# #Capitalize the name\n",
    "# for entry in data:\n",
    "#     entry['name'] = entry['name'].title()\n",
    " \n",
    "# # Standardize the phone numbers\n",
    "# for entry in data:\n",
    "#     entry['phone_number'] = re.sub(r'\\D', '', entry['phone_number'])  # Remove non-digits\n",
    " \n",
    "# # 3. Make email addresses lowercase\n",
    "# for entry in data:\n",
    "#     entry['email'] = entry['email'].lower()\n",
    " \n",
    "# # after transformed\n",
    "# print(\"\\nTransformed Data:\")\n",
    "# print(data)\n",
    " \n",
    "# with open(r\"C:\\Users\\AnupamKumar\\Documents\\transformed_cleaned.json\", \"w\") as file:\n",
    "#     json.dump(data, file, indent=4)"
   ]
  },
  {
   "cell_type": "code",
   "execution_count": 44,
   "id": "5ec88a1a-38d5-4d55-979e-0a11a6532e68",
   "metadata": {},
   "outputs": [
    {
     "name": "stdout",
     "output_type": "stream",
     "text": [
      "C:\\Users\\HarshitGupta\\Documents\n"
     ]
    }
   ],
   "source": [
    "import os\n",
    "print(os.getcwd())\n"
   ]
  },
  {
   "cell_type": "code",
   "execution_count": 62,
   "id": "cdf380ad-4212-4f40-86fc-4e507dadebb4",
   "metadata": {},
   "outputs": [
    {
     "name": "stdout",
     "output_type": "stream",
     "text": [
      "JSON Data from sample2.json: {'shoppingList': {'groceries': [{'item': 'Apples', 'quantity': 3, 'unit': 'lbs'}, {'item': 'Grapes', 'quantity': 2, 'unit': 'lbs'}, {'item': 'Bread', 'quantity': 2, 'unit': 'loaves'}, {'item': 'Milk', 'quantity': 1, 'unit': 'gallon'}, {'item': 'Eggs', 'quantity': 1, 'unit': 'dozen'}, {'item': 'Chicken', 'quantity': 2, 'unit': 'lbs'}, {'item': 'Meat', 'quantity': 1, 'unit': 'lbs'}, {'item': 'Tomato', 'quantity': 2, 'unit': 'lbs'}], 'personalCare': [{'item': 'Toothpaste', 'quantity': 2, 'unit': 'packs'}, {'item': 'Shampoo', 'quantity': 1, 'unit': 'bottle'}, {'item': 'Soap', 'quantity': 3, 'unit': 'bars'}, {'item': 'Toilet Paper', 'quantity': 1, 'unit': 'pack'}], 'householdItems': [{'item': 'Paper Towels', 'quantity': 4, 'unit': 'rolls'}, {'item': 'Laundry Detergent', 'quantity': 1, 'unit': 'container'}, {'item': 'Trash Bags', 'quantity': 2, 'unit': 'boxes'}, {'item': 'Batteries', 'quantity': 1, 'unit': 'pack'}]}}\n"
     ]
    }
   ],
   "source": [
    "import json\n",
    "\n",
    "with open(r\"C:\\Users\\HarshitGupta\\Documents/sample2.json\", \"r\") as file:\n",
    "    data = json.load(file)\n",
    "\n",
    "print(\"JSON Data from sample2.json:\", data)\n",
    "\n",
    "for i in data:\n",
    "    i['groceries'] = i['groceries'].title()\n",
    "    \n",
    "with open(r\"C:\\Users\\HarshitGupta\\Documents/sample2.json\", \"w\") as file:\n",
    "    json.dump(data, file, indent=4)"
   ]
  },
  {
   "cell_type": "code",
   "execution_count": null,
   "id": "9a3d3194-acfc-4240-9982-b9258edc6dd8",
   "metadata": {},
   "outputs": [],
   "source": []
  }
 ],
 "metadata": {
  "kernelspec": {
   "display_name": "Python 3 (ipykernel)",
   "language": "python",
   "name": "python3"
  },
  "language_info": {
   "codemirror_mode": {
    "name": "ipython",
    "version": 3
   },
   "file_extension": ".py",
   "mimetype": "text/x-python",
   "name": "python",
   "nbconvert_exporter": "python",
   "pygments_lexer": "ipython3",
   "version": "3.12.4"
  }
 },
 "nbformat": 4,
 "nbformat_minor": 5
}

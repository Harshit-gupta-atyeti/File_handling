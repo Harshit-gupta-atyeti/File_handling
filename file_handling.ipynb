{
 "cells": [
  {
   "cell_type": "code",
   "execution_count": 1,
   "id": "3aabab9b-113d-48d5-8931-293a992c985d",
   "metadata": {},
   "outputs": [
    {
     "name": "stdout",
     "output_type": "stream",
     "text": [
      "         Name  Ranking     Area\n",
      "0         IBM        2    India\n",
      "1      atyeti        3      USA\n",
      "2      google        7  england\n",
      "3   microsoft       11  ireland\n",
      "4        Meta        6  Austria\n",
      "5   blackrock        4   France\n",
      "6         tcs        5  germany\n",
      "7      amdocs        8       UK\n",
      "8         LTI       10    china\n",
      "9        Bain        1   africa\n",
      "10    Walmart        9   Canada\n"
     ]
    }
   ],
   "source": [
    "import pandas as pd\n",
    "d= {\"Name\":[\"IBM\",\"atyeti\",\"google\",\"microsoft\",\"Meta\",\"blackrock\",\"tcs\",\"amdocs\",\"LTI\",\"Bain\",\"Walmart\"],\n",
    "       \"Ranking\":[2,3,7,11,6,4,5,8,10,1,9],\n",
    "       \"Area\":[\"India\",\"USA\",\"england\",\"ireland\",\"Austria\",\"France\",\"germany\",\"UK\",\"china\",\"africa\",\"Canada\"]}\n",
    "df = pd.DataFrame(d)\n",
    "#print(d)\n",
    "df.to_csv(\"test_new.csv\",index = False)\n",
    "data=pd.read_csv(\"test_new.csv\")\n",
    "print(data)"
   ]
  },
  {
   "cell_type": "code",
   "execution_count": 44,
   "id": "5ec88a1a-38d5-4d55-979e-0a11a6532e68",
   "metadata": {},
   "outputs": [
    {
     "name": "stdout",
     "output_type": "stream",
     "text": [
      "C:\\Users\\HarshitGupta\\Documents\n"
     ]
    }
   ],
   "source": [
    "import os\n",
    "print(os.getcwd())\n"
   ]
  },
  {
   "cell_type": "code",
   "execution_count": 62,
   "id": "cdf380ad-4212-4f40-86fc-4e507dadebb4",
   "metadata": {},
   "outputs": [
    {
     "name": "stdout",
     "output_type": "stream",
     "text": [
      "JSON Data from sample2.json: {'shoppingList': {'groceries': [{'item': 'Apples', 'quantity': 3, 'unit': 'lbs'}, {'item': 'Grapes', 'quantity': 2, 'unit': 'lbs'}, {'item': 'Bread', 'quantity': 2, 'unit': 'loaves'}, {'item': 'Milk', 'quantity': 1, 'unit': 'gallon'}, {'item': 'Eggs', 'quantity': 1, 'unit': 'dozen'}, {'item': 'Chicken', 'quantity': 2, 'unit': 'lbs'}, {'item': 'Meat', 'quantity': 1, 'unit': 'lbs'}, {'item': 'Tomato', 'quantity': 2, 'unit': 'lbs'}], 'personalCare': [{'item': 'Toothpaste', 'quantity': 2, 'unit': 'packs'}, {'item': 'Shampoo', 'quantity': 1, 'unit': 'bottle'}, {'item': 'Soap', 'quantity': 3, 'unit': 'bars'}, {'item': 'Toilet Paper', 'quantity': 1, 'unit': 'pack'}], 'householdItems': [{'item': 'Paper Towels', 'quantity': 4, 'unit': 'rolls'}, {'item': 'Laundry Detergent', 'quantity': 1, 'unit': 'container'}, {'item': 'Trash Bags', 'quantity': 2, 'unit': 'boxes'}, {'item': 'Batteries', 'quantity': 1, 'unit': 'pack'}]}}\n"
     ]
    }
   ],
   "source": [
    "import json\n",
    "\n",
    "with open(r\"C:\\Users\\HarshitGupta\\Documents/sample2.json\", \"r\") as file:\n",
    "    data = json.load(file)\n",
    "\n",
    "print(\"JSON Data from sample2.json:\", data)\n",
    "\n",
    "for i in data:\n",
    "    i['groceries'] = i['groceries'].title()\n",
    "    \n",
    "with open(r\"C:\\Users\\HarshitGupta\\Documents/sample2.json\", \"w\") as file:\n",
    "    json.dump(data, file, indent=4)"
   ]
  },
  {
   "cell_type": "code",
   "execution_count": null,
   "id": "9a3d3194-acfc-4240-9982-b9258edc6dd8",
   "metadata": {},
   "outputs": [],
   "source": []
  }
 ],
 "metadata": {
  "kernelspec": {
   "display_name": "Python 3 (ipykernel)",
   "language": "python",
   "name": "python3"
  },
  "language_info": {
   "codemirror_mode": {
    "name": "ipython",
    "version": 3
   },
   "file_extension": ".py",
   "mimetype": "text/x-python",
   "name": "python",
   "nbconvert_exporter": "python",
   "pygments_lexer": "ipython3",
   "version": "3.12.4"
  }
 },
 "nbformat": 4,
 "nbformat_minor": 5
}
